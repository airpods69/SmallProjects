{
 "cells": [
  {
   "cell_type": "markdown",
   "metadata": {},
   "source": [
    "### Useful Imports"
   ]
  },
  {
   "cell_type": "code",
   "execution_count": 1,
   "metadata": {},
   "outputs": [],
   "source": [
    "import numpy as np\n",
    "import sympy as sp"
   ]
  },
  {
   "cell_type": "markdown",
   "metadata": {},
   "source": [
    "### Defining symbols and functions"
   ]
  },
  {
   "cell_type": "code",
   "execution_count": 2,
   "metadata": {},
   "outputs": [],
   "source": [
    "t, g = sp.symbols('t g')\n",
    "m1, m2 = sp.symbols('m1 m2')\n",
    "L1, L2 = sp.symbols('L1, L2')"
   ]
  },
  {
   "cell_type": "code",
   "execution_count": 3,
   "metadata": {},
   "outputs": [],
   "source": [
    "the1, the2, phi1, phi2 = sp.symbols(r'\\theta_1, \\theta_2, \\phi_1, \\phi_2', cls = sp.Function)"
   ]
  },
  {
   "cell_type": "markdown",
   "metadata": {},
   "source": [
    "### Functions and thinking"
   ]
  },
  {
   "cell_type": "code",
   "execution_count": 4,
   "metadata": {},
   "outputs": [],
   "source": [
    "the1 = the1(t)\n",
    "the2 = the2(t)\n",
    "phi1 = phi1(t)\n",
    "phi2 = phi2(t)"
   ]
  },
  {
   "cell_type": "markdown",
   "metadata": {},
   "source": [
    "defining derivates"
   ]
  },
  {
   "cell_type": "code",
   "execution_count": 5,
   "metadata": {},
   "outputs": [],
   "source": [
    "the1_d = sp.diff(the1,t)\n",
    "the2_d = sp.diff(the2,t)\n",
    "phi1_d = sp.diff(phi1,t)\n",
    "phi2_d = sp.diff(phi2,t)\n",
    "the1_dd = sp.diff(the1_d, t)\n",
    "the2_dd = sp.diff(the2_d, t)\n",
    "phi1_dd = sp.diff(phi1_d, t)\n",
    "phi2_dd = sp.diff(phi2_d, t)"
   ]
  },
  {
   "cell_type": "code",
   "execution_count": 6,
   "metadata": {},
   "outputs": [],
   "source": [
    "x1 = L1*sp.sin(the1)*sp.cos(phi1)\n",
    "y1 = L1*sp.sin(the1)*sp.sin(phi1)\n",
    "z1 = -L1*sp.cos(the1)\n",
    "x2 = x1 + L2*sp.sin(the2)*sp.cos(phi2)\n",
    "y2 = y1 + L2*sp.sin(the2)*sp.sin(phi2)\n",
    "z2 = z1 -L2*sp.cos(the2)"
   ]
  },
  {
   "cell_type": "code",
   "execution_count": 7,
   "metadata": {},
   "outputs": [],
   "source": [
    "x1_f = sp.lambdify((the1, the2, phi1, phi2, L1, L2), x1)\n",
    "y1_f = sp.lambdify((the1, the2, phi1, phi2, L1, L2), y1)\n",
    "z1_f = sp.lambdify((the1, the2, phi1, phi2, L1, L2), z1)\n",
    "x2_f = sp.lambdify((the1, the2, phi1, phi2, L1, L2), x2)\n",
    "y2_f = sp.lambdify((the1, the2, phi1, phi2, L1, L2), y2)\n",
    "z2_f = sp.lambdify((the1, the2, phi1, phi2, L1, L2), z2)"
   ]
  },
  {
   "cell_type": "markdown",
   "metadata": {},
   "source": [
    "Kinetic Energy <br>\n",
    "$ K_t = K_1 + K_2 $ <br>\n",
    "$ K_1 = 1/2 * m_1 * v_1 $ <br>\n",
    "$ K_2 = 1/2 * m_2 * v_2 $ <br>\n",
    "<br>\n",
    "Potentional Energy <br>\n",
    "$ V_t = V_1 + V_2 $ <br>\n",
    "$ V_1 = m_1 * g * z_1 $ <br>\n",
    "$ V_2 = m_2 * g * z_2 $\n",
    "<br>\n",
    "Lagrangian <br>\n",
    "L = T - V"
   ]
  },
  {
   "cell_type": "code",
   "execution_count": 8,
   "metadata": {},
   "outputs": [],
   "source": [
    "# kinetic\n",
    "v1 = sp.diff(x1,t)**2 + sp.diff(y1,t)**2 + sp.diff(z1,t)**2 \n",
    "k1 = 1/2 * m1 * (v1)\n",
    "v2 = sp.diff(x2,t)**2 + sp.diff(y2,t)**2 + sp.diff(z2,t)**2 \n",
    "k2 = 1/2 * m2 * (v2)\n",
    "\n",
    "kt = k1 + k2\n",
    "\n",
    "# Potential\n",
    "v1 = m1 * g * z1\n",
    "v2 = m2 * g * z2\n",
    "vt = v1 + v2\n",
    "\n",
    "# Lagrangian \n",
    "l = kt - vt"
   ]
  },
  {
   "cell_type": "code",
   "execution_count": 9,
   "metadata": {},
   "outputs": [],
   "source": [
    "le1 = sp.diff(l, the1) - sp.diff(sp.diff(l,the1_d), t).simplify()\n",
    "le2 = sp.diff(l, the2) - sp.diff(sp.diff(l,the2_d), t).simplify()\n",
    "le3 = sp.diff(l, phi1) - sp.diff(sp.diff(l,phi1_d), t).simplify()\n",
    "le4 = sp.diff(l, phi2) - sp.diff(sp.diff(l,phi2_d), t).simplify()"
   ]
  },
  {
   "cell_type": "code",
   "execution_count": 10,
   "metadata": {},
   "outputs": [],
   "source": [
    "sols = sp.solve([le1, le2, le3, le4], (the1_dd, the2_dd, phi1_dd, phi2_dd), \n",
    "    simplify = False, rational = False)"
   ]
  }
 ],
 "metadata": {
  "interpreter": {
   "hash": "0761dda52ed6121c62b7d2422e983e00632d55013d0a9161aa19b25a08cb7ec7"
  },
  "kernelspec": {
   "display_name": "Octave",
   "language": "python",
   "name": "python3"
  },
  "language_info": {
   "codemirror_mode": {
    "name": "ipython",
    "version": 3
   },
   "file_extension": ".py",
   "mimetype": "text/x-python",
   "name": "python",
   "nbconvert_exporter": "python",
   "pygments_lexer": "ipython3",
   "version": "3.9.7"
  },
  "orig_nbformat": 4
 },
 "nbformat": 4,
 "nbformat_minor": 2
}
